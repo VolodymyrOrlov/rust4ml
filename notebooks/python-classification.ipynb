{
 "cells": [
  {
   "cell_type": "code",
   "execution_count": 34,
   "metadata": {
    "slideshow": {
     "slide_type": "skip"
    }
   },
   "outputs": [],
   "source": [
    "import warnings\n",
    "warnings.filterwarnings('ignore')"
   ]
  },
  {
   "cell_type": "code",
   "execution_count": 35,
   "metadata": {
    "slideshow": {
     "slide_type": "slide"
    }
   },
   "outputs": [],
   "source": [
    "import pandas as pd\n",
    "import numpy as np"
   ]
  },
  {
   "cell_type": "code",
   "execution_count": 36,
   "metadata": {
    "slideshow": {
     "slide_type": "slide"
    }
   },
   "outputs": [],
   "source": [
    "credit = pd.read_csv('../data/creditcard.csv', header=None, names=list(range(1, 31)) + ['Class'])"
   ]
  },
  {
   "cell_type": "code",
   "execution_count": 37,
   "metadata": {
    "slideshow": {
     "slide_type": "subslide"
    }
   },
   "outputs": [
    {
     "data": {
      "text/html": [
       "<div>\n",
       "<style scoped>\n",
       "    .dataframe tbody tr th:only-of-type {\n",
       "        vertical-align: middle;\n",
       "    }\n",
       "\n",
       "    .dataframe tbody tr th {\n",
       "        vertical-align: top;\n",
       "    }\n",
       "\n",
       "    .dataframe thead th {\n",
       "        text-align: right;\n",
       "    }\n",
       "</style>\n",
       "<table border=\"1\" class=\"dataframe\">\n",
       "  <thead>\n",
       "    <tr style=\"text-align: right;\">\n",
       "      <th></th>\n",
       "      <th>1</th>\n",
       "      <th>2</th>\n",
       "      <th>3</th>\n",
       "      <th>4</th>\n",
       "      <th>5</th>\n",
       "      <th>6</th>\n",
       "      <th>7</th>\n",
       "      <th>8</th>\n",
       "      <th>9</th>\n",
       "      <th>10</th>\n",
       "      <th>...</th>\n",
       "      <th>22</th>\n",
       "      <th>23</th>\n",
       "      <th>24</th>\n",
       "      <th>25</th>\n",
       "      <th>26</th>\n",
       "      <th>27</th>\n",
       "      <th>28</th>\n",
       "      <th>29</th>\n",
       "      <th>30</th>\n",
       "      <th>Class</th>\n",
       "    </tr>\n",
       "  </thead>\n",
       "  <tbody>\n",
       "    <tr>\n",
       "      <td>0</td>\n",
       "      <td>50706.0</td>\n",
       "      <td>-8.461845</td>\n",
       "      <td>6.866198</td>\n",
       "      <td>-11.838269</td>\n",
       "      <td>4.194211</td>\n",
       "      <td>-6.923097</td>\n",
       "      <td>-3.221147</td>\n",
       "      <td>-7.553497</td>\n",
       "      <td>6.015618</td>\n",
       "      <td>-2.466143</td>\n",
       "      <td>...</td>\n",
       "      <td>0.918244</td>\n",
       "      <td>-0.715366</td>\n",
       "      <td>0.210747</td>\n",
       "      <td>-0.060211</td>\n",
       "      <td>0.509535</td>\n",
       "      <td>-0.257284</td>\n",
       "      <td>1.170027</td>\n",
       "      <td>0.229301</td>\n",
       "      <td>99.99</td>\n",
       "      <td>1</td>\n",
       "    </tr>\n",
       "    <tr>\n",
       "      <td>1</td>\n",
       "      <td>10421.0</td>\n",
       "      <td>0.284451</td>\n",
       "      <td>-1.397657</td>\n",
       "      <td>1.060475</td>\n",
       "      <td>1.853782</td>\n",
       "      <td>-1.567525</td>\n",
       "      <td>-0.101651</td>\n",
       "      <td>-0.293445</td>\n",
       "      <td>-0.040290</td>\n",
       "      <td>2.029798</td>\n",
       "      <td>...</td>\n",
       "      <td>0.364551</td>\n",
       "      <td>0.276651</td>\n",
       "      <td>-0.442972</td>\n",
       "      <td>0.339378</td>\n",
       "      <td>0.138196</td>\n",
       "      <td>-0.322527</td>\n",
       "      <td>-0.043856</td>\n",
       "      <td>0.114197</td>\n",
       "      <td>462.00</td>\n",
       "      <td>0</td>\n",
       "    </tr>\n",
       "    <tr>\n",
       "      <td>2</td>\n",
       "      <td>77154.0</td>\n",
       "      <td>-0.715414</td>\n",
       "      <td>0.608590</td>\n",
       "      <td>1.155501</td>\n",
       "      <td>-0.267565</td>\n",
       "      <td>-0.563748</td>\n",
       "      <td>-0.618898</td>\n",
       "      <td>0.698308</td>\n",
       "      <td>0.069837</td>\n",
       "      <td>-0.133341</td>\n",
       "      <td>...</td>\n",
       "      <td>0.130749</td>\n",
       "      <td>0.239389</td>\n",
       "      <td>-0.090227</td>\n",
       "      <td>0.411572</td>\n",
       "      <td>-0.216126</td>\n",
       "      <td>0.353896</td>\n",
       "      <td>-0.062361</td>\n",
       "      <td>0.008433</td>\n",
       "      <td>129.00</td>\n",
       "      <td>1</td>\n",
       "    </tr>\n",
       "    <tr>\n",
       "      <td>3</td>\n",
       "      <td>162005.0</td>\n",
       "      <td>1.820525</td>\n",
       "      <td>-0.636692</td>\n",
       "      <td>-0.042066</td>\n",
       "      <td>0.297683</td>\n",
       "      <td>-1.121546</td>\n",
       "      <td>-0.659744</td>\n",
       "      <td>-0.639831</td>\n",
       "      <td>0.005423</td>\n",
       "      <td>1.168590</td>\n",
       "      <td>...</td>\n",
       "      <td>0.300163</td>\n",
       "      <td>0.994098</td>\n",
       "      <td>0.148757</td>\n",
       "      <td>0.603600</td>\n",
       "      <td>-0.282014</td>\n",
       "      <td>0.064710</td>\n",
       "      <td>0.006358</td>\n",
       "      <td>-0.037481</td>\n",
       "      <td>54.95</td>\n",
       "      <td>0</td>\n",
       "    </tr>\n",
       "    <tr>\n",
       "      <td>4</td>\n",
       "      <td>51264.0</td>\n",
       "      <td>-1.184055</td>\n",
       "      <td>2.225832</td>\n",
       "      <td>-0.759633</td>\n",
       "      <td>0.717697</td>\n",
       "      <td>1.867873</td>\n",
       "      <td>-0.750556</td>\n",
       "      <td>1.230181</td>\n",
       "      <td>0.009470</td>\n",
       "      <td>-1.105051</td>\n",
       "      <td>...</td>\n",
       "      <td>-0.154681</td>\n",
       "      <td>-0.403606</td>\n",
       "      <td>-0.539681</td>\n",
       "      <td>-1.079889</td>\n",
       "      <td>0.804893</td>\n",
       "      <td>-0.232891</td>\n",
       "      <td>-0.465452</td>\n",
       "      <td>-0.142328</td>\n",
       "      <td>0.89</td>\n",
       "      <td>0</td>\n",
       "    </tr>\n",
       "  </tbody>\n",
       "</table>\n",
       "<p>5 rows × 31 columns</p>\n",
       "</div>"
      ],
      "text/plain": [
       "          1         2         3          4         5         6         7  \\\n",
       "0   50706.0 -8.461845  6.866198 -11.838269  4.194211 -6.923097 -3.221147   \n",
       "1   10421.0  0.284451 -1.397657   1.060475  1.853782 -1.567525 -0.101651   \n",
       "2   77154.0 -0.715414  0.608590   1.155501 -0.267565 -0.563748 -0.618898   \n",
       "3  162005.0  1.820525 -0.636692  -0.042066  0.297683 -1.121546 -0.659744   \n",
       "4   51264.0 -1.184055  2.225832  -0.759633  0.717697  1.867873 -0.750556   \n",
       "\n",
       "          8         9        10  ...        22        23        24        25  \\\n",
       "0 -7.553497  6.015618 -2.466143  ...  0.918244 -0.715366  0.210747 -0.060211   \n",
       "1 -0.293445 -0.040290  2.029798  ...  0.364551  0.276651 -0.442972  0.339378   \n",
       "2  0.698308  0.069837 -0.133341  ...  0.130749  0.239389 -0.090227  0.411572   \n",
       "3 -0.639831  0.005423  1.168590  ...  0.300163  0.994098  0.148757  0.603600   \n",
       "4  1.230181  0.009470 -1.105051  ... -0.154681 -0.403606 -0.539681 -1.079889   \n",
       "\n",
       "         26        27        28        29      30  Class  \n",
       "0  0.509535 -0.257284  1.170027  0.229301   99.99      1  \n",
       "1  0.138196 -0.322527 -0.043856  0.114197  462.00      0  \n",
       "2 -0.216126  0.353896 -0.062361  0.008433  129.00      1  \n",
       "3 -0.282014  0.064710  0.006358 -0.037481   54.95      0  \n",
       "4  0.804893 -0.232891 -0.465452 -0.142328    0.89      0  \n",
       "\n",
       "[5 rows x 31 columns]"
      ]
     },
     "execution_count": 37,
     "metadata": {},
     "output_type": "execute_result"
    }
   ],
   "source": [
    "credit.head(5)"
   ]
  },
  {
   "cell_type": "code",
   "execution_count": 38,
   "metadata": {
    "slideshow": {
     "slide_type": "slide"
    }
   },
   "outputs": [],
   "source": [
    "from sklearn.model_selection import train_test_split"
   ]
  },
  {
   "cell_type": "code",
   "execution_count": 39,
   "metadata": {
    "slideshow": {
     "slide_type": "subslide"
    }
   },
   "outputs": [
    {
     "data": {
      "text/plain": [
       "((984, 30), (984,))"
      ]
     },
     "execution_count": 39,
     "metadata": {},
     "output_type": "execute_result"
    }
   ],
   "source": [
    "X = credit.drop('Class', axis=1).values\n",
    "y = credit.Class.values\n",
    "X.shape, y.shape"
   ]
  },
  {
   "cell_type": "code",
   "execution_count": 40,
   "metadata": {
    "slideshow": {
     "slide_type": "subslide"
    }
   },
   "outputs": [
    {
     "data": {
      "text/plain": [
       "((787, 30), (197, 30), (787,), (197,))"
      ]
     },
     "execution_count": 40,
     "metadata": {},
     "output_type": "execute_result"
    }
   ],
   "source": [
    "X_train, X_test, y_train, y_test = train_test_split(X, y, test_size = 0.2)   \n",
    "X_train.shape, X_test.shape, y_train.shape, y_test.shape"
   ]
  },
  {
   "cell_type": "code",
   "execution_count": 41,
   "metadata": {
    "slideshow": {
     "slide_type": "slide"
    }
   },
   "outputs": [],
   "source": [
    "from sklearn.linear_model import LogisticRegression"
   ]
  },
  {
   "cell_type": "code",
   "execution_count": 42,
   "metadata": {
    "slideshow": {
     "slide_type": "slide"
    }
   },
   "outputs": [],
   "source": [
    "clf = LogisticRegression(random_state=0).fit(X_train, y_train)\n",
    "y_hat = clf.predict(X_test)"
   ]
  },
  {
   "cell_type": "code",
   "execution_count": 43,
   "metadata": {
    "slideshow": {
     "slide_type": "subslide"
    }
   },
   "outputs": [],
   "source": [
    "from sklearn.metrics import roc_auc_score"
   ]
  },
  {
   "cell_type": "code",
   "execution_count": 44,
   "metadata": {
    "slideshow": {
     "slide_type": "subslide"
    }
   },
   "outputs": [
    {
     "data": {
      "text/plain": [
       "0.9406542056074766"
      ]
     },
     "execution_count": 44,
     "metadata": {},
     "output_type": "execute_result"
    }
   ],
   "source": [
    "roc_auc_score(y_test, y_hat)"
   ]
  },
  {
   "cell_type": "code",
   "execution_count": 45,
   "metadata": {
    "slideshow": {
     "slide_type": "subslide"
    }
   },
   "outputs": [
    {
     "data": {
      "text/plain": [
       "(array([0, 0, 0, 1, 1, 1, 0, 1, 0, 1]), array([0, 0, 0, 0, 1, 0, 0, 1, 0, 1]))"
      ]
     },
     "execution_count": 45,
     "metadata": {},
     "output_type": "execute_result"
    }
   ],
   "source": [
    "y_test[:10], y_hat[:10]"
   ]
  },
  {
   "cell_type": "code",
   "execution_count": null,
   "metadata": {
    "slideshow": {
     "slide_type": "skip"
    }
   },
   "outputs": [],
   "source": []
  }
 ],
 "metadata": {
  "celltoolbar": "Slideshow",
  "kernelspec": {
   "display_name": "Python 3",
   "language": "python",
   "name": "python3"
  },
  "language_info": {
   "codemirror_mode": {
    "name": "ipython",
    "version": 3
   },
   "file_extension": ".py",
   "mimetype": "text/x-python",
   "name": "python",
   "nbconvert_exporter": "python",
   "pygments_lexer": "ipython3",
   "version": "3.7.4"
  }
 },
 "nbformat": 4,
 "nbformat_minor": 2
}
