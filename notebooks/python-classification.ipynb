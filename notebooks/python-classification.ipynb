{
 "cells": [
  {
   "cell_type": "code",
   "execution_count": 34,
   "metadata": {
    "slideshow": {
     "slide_type": "skip"
    }
   },
   "outputs": [],
   "source": [
    "import warnings\n",
    "warnings.filterwarnings('ignore')"
   ]
  },
  {
   "cell_type": "code",
   "execution_count": 35,
   "metadata": {
    "slideshow": {
     "slide_type": "slide"
    }
   },
   "outputs": [],
   "source": [
    "import pandas as pd\n",
    "import numpy as np"
   ]
  },
  {
   "cell_type": "code",
   "execution_count": 46,
   "metadata": {
    "slideshow": {
     "slide_type": "skip"
    }
   },
   "outputs": [],
   "source": [
    "pd.options.display.max_columns = 11"
   ]
  },
  {
   "cell_type": "markdown",
   "metadata": {
    "slideshow": {
     "slide_type": "slide"
    }
   },
   "source": [
    "### Credit Card Fraud Detection\n",
    "Anonymized credit card transactions labeled as fraudulent or genuine\n",
    "The datasets contains transactions made by credit cards in September 2013 by european cardholders, https://www.kaggle.com/mlg-ulb/creditcardfraud"
   ]
  },
  {
   "cell_type": "code",
   "execution_count": 47,
   "metadata": {
    "slideshow": {
     "slide_type": "subslide"
    }
   },
   "outputs": [],
   "source": [
    "credit = pd.read_csv('../data/creditcard.csv', header=None, names=list(range(1, 31)) + ['Class'])"
   ]
  },
  {
   "cell_type": "code",
   "execution_count": 48,
   "metadata": {
    "slideshow": {
     "slide_type": "subslide"
    }
   },
   "outputs": [
    {
     "data": {
      "text/html": [
       "<div>\n",
       "<style scoped>\n",
       "    .dataframe tbody tr th:only-of-type {\n",
       "        vertical-align: middle;\n",
       "    }\n",
       "\n",
       "    .dataframe tbody tr th {\n",
       "        vertical-align: top;\n",
       "    }\n",
       "\n",
       "    .dataframe thead th {\n",
       "        text-align: right;\n",
       "    }\n",
       "</style>\n",
       "<table border=\"1\" class=\"dataframe\">\n",
       "  <thead>\n",
       "    <tr style=\"text-align: right;\">\n",
       "      <th></th>\n",
       "      <th>1</th>\n",
       "      <th>2</th>\n",
       "      <th>3</th>\n",
       "      <th>4</th>\n",
       "      <th>5</th>\n",
       "      <th>...</th>\n",
       "      <th>27</th>\n",
       "      <th>28</th>\n",
       "      <th>29</th>\n",
       "      <th>30</th>\n",
       "      <th>Class</th>\n",
       "    </tr>\n",
       "  </thead>\n",
       "  <tbody>\n",
       "    <tr>\n",
       "      <td>0</td>\n",
       "      <td>50706.0</td>\n",
       "      <td>-8.461845</td>\n",
       "      <td>6.866198</td>\n",
       "      <td>-11.838269</td>\n",
       "      <td>4.194211</td>\n",
       "      <td>...</td>\n",
       "      <td>-0.257284</td>\n",
       "      <td>1.170027</td>\n",
       "      <td>0.229301</td>\n",
       "      <td>99.99</td>\n",
       "      <td>1</td>\n",
       "    </tr>\n",
       "    <tr>\n",
       "      <td>1</td>\n",
       "      <td>10421.0</td>\n",
       "      <td>0.284451</td>\n",
       "      <td>-1.397657</td>\n",
       "      <td>1.060475</td>\n",
       "      <td>1.853782</td>\n",
       "      <td>...</td>\n",
       "      <td>-0.322527</td>\n",
       "      <td>-0.043856</td>\n",
       "      <td>0.114197</td>\n",
       "      <td>462.00</td>\n",
       "      <td>0</td>\n",
       "    </tr>\n",
       "    <tr>\n",
       "      <td>2</td>\n",
       "      <td>77154.0</td>\n",
       "      <td>-0.715414</td>\n",
       "      <td>0.608590</td>\n",
       "      <td>1.155501</td>\n",
       "      <td>-0.267565</td>\n",
       "      <td>...</td>\n",
       "      <td>0.353896</td>\n",
       "      <td>-0.062361</td>\n",
       "      <td>0.008433</td>\n",
       "      <td>129.00</td>\n",
       "      <td>1</td>\n",
       "    </tr>\n",
       "    <tr>\n",
       "      <td>3</td>\n",
       "      <td>162005.0</td>\n",
       "      <td>1.820525</td>\n",
       "      <td>-0.636692</td>\n",
       "      <td>-0.042066</td>\n",
       "      <td>0.297683</td>\n",
       "      <td>...</td>\n",
       "      <td>0.064710</td>\n",
       "      <td>0.006358</td>\n",
       "      <td>-0.037481</td>\n",
       "      <td>54.95</td>\n",
       "      <td>0</td>\n",
       "    </tr>\n",
       "    <tr>\n",
       "      <td>4</td>\n",
       "      <td>51264.0</td>\n",
       "      <td>-1.184055</td>\n",
       "      <td>2.225832</td>\n",
       "      <td>-0.759633</td>\n",
       "      <td>0.717697</td>\n",
       "      <td>...</td>\n",
       "      <td>-0.232891</td>\n",
       "      <td>-0.465452</td>\n",
       "      <td>-0.142328</td>\n",
       "      <td>0.89</td>\n",
       "      <td>0</td>\n",
       "    </tr>\n",
       "  </tbody>\n",
       "</table>\n",
       "<p>5 rows × 31 columns</p>\n",
       "</div>"
      ],
      "text/plain": [
       "          1         2         3          4         5  ...        27        28  \\\n",
       "0   50706.0 -8.461845  6.866198 -11.838269  4.194211  ... -0.257284  1.170027   \n",
       "1   10421.0  0.284451 -1.397657   1.060475  1.853782  ... -0.322527 -0.043856   \n",
       "2   77154.0 -0.715414  0.608590   1.155501 -0.267565  ...  0.353896 -0.062361   \n",
       "3  162005.0  1.820525 -0.636692  -0.042066  0.297683  ...  0.064710  0.006358   \n",
       "4   51264.0 -1.184055  2.225832  -0.759633  0.717697  ... -0.232891 -0.465452   \n",
       "\n",
       "         29      30  Class  \n",
       "0  0.229301   99.99      1  \n",
       "1  0.114197  462.00      0  \n",
       "2  0.008433  129.00      1  \n",
       "3 -0.037481   54.95      0  \n",
       "4 -0.142328    0.89      0  \n",
       "\n",
       "[5 rows x 31 columns]"
      ]
     },
     "execution_count": 48,
     "metadata": {},
     "output_type": "execute_result"
    }
   ],
   "source": [
    "credit.head(5)"
   ]
  },
  {
   "cell_type": "code",
   "execution_count": 38,
   "metadata": {
    "slideshow": {
     "slide_type": "slide"
    }
   },
   "outputs": [],
   "source": [
    "from sklearn.model_selection import train_test_split"
   ]
  },
  {
   "cell_type": "code",
   "execution_count": 39,
   "metadata": {
    "slideshow": {
     "slide_type": "subslide"
    }
   },
   "outputs": [
    {
     "data": {
      "text/plain": [
       "((984, 30), (984,))"
      ]
     },
     "execution_count": 39,
     "metadata": {},
     "output_type": "execute_result"
    }
   ],
   "source": [
    "X = credit.drop('Class', axis=1).values\n",
    "y = credit.Class.values\n",
    "X.shape, y.shape"
   ]
  },
  {
   "cell_type": "code",
   "execution_count": 40,
   "metadata": {
    "slideshow": {
     "slide_type": "subslide"
    }
   },
   "outputs": [
    {
     "data": {
      "text/plain": [
       "((787, 30), (197, 30), (787,), (197,))"
      ]
     },
     "execution_count": 40,
     "metadata": {},
     "output_type": "execute_result"
    }
   ],
   "source": [
    "X_train, X_test, y_train, y_test = train_test_split(X, y, test_size = 0.2)   \n",
    "X_train.shape, X_test.shape, y_train.shape, y_test.shape"
   ]
  },
  {
   "cell_type": "code",
   "execution_count": 41,
   "metadata": {
    "slideshow": {
     "slide_type": "slide"
    }
   },
   "outputs": [],
   "source": [
    "from sklearn.linear_model import LogisticRegression"
   ]
  },
  {
   "cell_type": "code",
   "execution_count": 42,
   "metadata": {
    "slideshow": {
     "slide_type": "subslide"
    }
   },
   "outputs": [],
   "source": [
    "clf = LogisticRegression(random_state=0).fit(X_train, y_train)\n",
    "y_hat = clf.predict(X_test)"
   ]
  },
  {
   "cell_type": "code",
   "execution_count": 43,
   "metadata": {
    "slideshow": {
     "slide_type": "subslide"
    }
   },
   "outputs": [],
   "source": [
    "from sklearn.metrics import roc_auc_score"
   ]
  },
  {
   "cell_type": "code",
   "execution_count": 44,
   "metadata": {
    "slideshow": {
     "slide_type": "subslide"
    }
   },
   "outputs": [
    {
     "data": {
      "text/plain": [
       "0.9406542056074766"
      ]
     },
     "execution_count": 44,
     "metadata": {},
     "output_type": "execute_result"
    }
   ],
   "source": [
    "roc_auc_score(y_test, y_hat)"
   ]
  },
  {
   "cell_type": "code",
   "execution_count": 45,
   "metadata": {
    "slideshow": {
     "slide_type": "skip"
    }
   },
   "outputs": [
    {
     "data": {
      "text/plain": [
       "(array([0, 0, 0, 1, 1, 1, 0, 1, 0, 1]), array([0, 0, 0, 0, 1, 0, 0, 1, 0, 1]))"
      ]
     },
     "execution_count": 45,
     "metadata": {},
     "output_type": "execute_result"
    }
   ],
   "source": [
    "y_test[:10], y_hat[:10]"
   ]
  },
  {
   "cell_type": "code",
   "execution_count": null,
   "metadata": {
    "slideshow": {
     "slide_type": "skip"
    }
   },
   "outputs": [],
   "source": []
  }
 ],
 "metadata": {
  "celltoolbar": "Slideshow",
  "kernelspec": {
   "display_name": "Python 3",
   "language": "python",
   "name": "python3"
  },
  "language_info": {
   "codemirror_mode": {
    "name": "ipython",
    "version": 3
   },
   "file_extension": ".py",
   "mimetype": "text/x-python",
   "name": "python",
   "nbconvert_exporter": "python",
   "pygments_lexer": "ipython3",
   "version": "3.7.4"
  }
 },
 "nbformat": 4,
 "nbformat_minor": 2
}
