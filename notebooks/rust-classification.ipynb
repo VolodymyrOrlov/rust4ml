{
 "cells": [
  {
   "cell_type": "code",
   "execution_count": 30,
   "metadata": {
    "slideshow": {
     "slide_type": "slide"
    }
   },
   "outputs": [],
   "source": [
    ":dep smartcore = { version = \"0.1.0\", features=[\"nalgebra-bindings\", \"ndarray-bindings\", \"datasets\"]}\n",
    ":dep nalgebra = \"0.22.0\"\n",
    ":dep argmin = \"0.3.1\""
   ]
  },
  {
   "cell_type": "code",
   "execution_count": 3,
   "metadata": {
    "slideshow": {
     "slide_type": "slide"
    }
   },
   "outputs": [],
   "source": [
    "use nalgebra::{DMatrix, DVector, RowDVector, Scalar};"
   ]
  },
  {
   "cell_type": "code",
   "execution_count": 4,
   "metadata": {
    "slideshow": {
     "slide_type": "skip"
    }
   },
   "outputs": [],
   "source": [
    "use std::io::prelude::*;\n",
    "use std::io::BufReader;\n",
    "use std::fs::File;\n",
    "use std::str::FromStr;"
   ]
  },
  {
   "cell_type": "code",
   "execution_count": 5,
   "metadata": {
    "slideshow": {
     "slide_type": "skip"
    }
   },
   "outputs": [],
   "source": [
    "fn parse_csv<N, R>(input: R) -> Result<DMatrix<N>, Box<dyn std::error::Error>>\n",
    "  where N: FromStr + Scalar,\n",
    "        N::Err: std::error::Error,\n",
    "        R: BufRead\n",
    "{\n",
    "  // initialize an empty vector to fill with numbers\n",
    "  let mut data = Vec::new();\n",
    "\n",
    "  // initialize the number of rows to zero; we'll increment this\n",
    "  // every time we encounter a newline in the input\n",
    "  let mut rows = 0;\n",
    "\n",
    "  // for each line in the input,\n",
    "  for line in input.lines() {\n",
    "    // increment the number of rows\n",
    "    rows += 1;\n",
    "    // iterate over the items in the row, separated by commas\n",
    "    for datum in line?.split_terminator(\",\") {\n",
    "      // trim the whitespace from the item, parse it, and push it to\n",
    "      // the data array\n",
    "      data.push(N::from_str(datum.trim())?);\n",
    "    }\n",
    "  }\n",
    "\n",
    "  // The number of items divided by the number of rows equals the\n",
    "  // number of columns.\n",
    "  let cols = data.len() / rows;\n",
    "\n",
    "  // Construct a `DMatrix` from the data in the vector.\n",
    "  Ok(DMatrix::from_row_slice(rows, cols, &data[..]))\n",
    "}"
   ]
  },
  {
   "cell_type": "code",
   "execution_count": 6,
   "metadata": {
    "slideshow": {
     "slide_type": "subslide"
    }
   },
   "outputs": [
    {
     "data": {
      "text/plain": [
       "(984, 31)"
      ]
     },
     "execution_count": 6,
     "metadata": {},
     "output_type": "execute_result"
    }
   ],
   "source": [
    "let file = File::open(\"../data/creditcard.csv\")?;\n",
    "let credit: DMatrix<f64> = parse_csv(BufReader::new(file))?;\n",
    "credit.shape()"
   ]
  },
  {
   "cell_type": "code",
   "execution_count": 7,
   "metadata": {
    "slideshow": {
     "slide_type": "subslide"
    }
   },
   "outputs": [
    {
     "data": {
      "text/plain": [
       "((984, 30), (984, 1))"
      ]
     },
     "execution_count": 7,
     "metadata": {},
     "output_type": "execute_result"
    }
   ],
   "source": [
    "let x = credit.columns(0, 30).into_owned();\n",
    "let y = credit.column(30).into_owned();\n",
    "(x.shape(), y.shape())"
   ]
  },
  {
   "cell_type": "code",
   "execution_count": 8,
   "metadata": {
    "slideshow": {
     "slide_type": "subslide"
    }
   },
   "outputs": [],
   "source": [
    "use smartcore::model_selection::train_test_split;"
   ]
  },
  {
   "cell_type": "code",
   "execution_count": 9,
   "metadata": {
    "slideshow": {
     "slide_type": "subslide"
    }
   },
   "outputs": [
    {
     "data": {
      "text/plain": [
       "((804, 30), (1, 804), (180, 30), (1, 180))"
      ]
     },
     "execution_count": 9,
     "metadata": {},
     "output_type": "execute_result"
    }
   ],
   "source": [
    "let (x_train, x_test, y_train, y_test) = train_test_split(&x, &y.transpose(), 0.2);\n",
    "(x_train.shape(), y_train.shape(), x_test.shape(), y_test.shape())"
   ]
  },
  {
   "cell_type": "markdown",
   "metadata": {
    "slideshow": {
     "slide_type": "slide"
    }
   },
   "source": [
    "## Sigmoid function\n",
    "\n",
    "$\\sigma(x) = \\frac{1}{1 + e^{-x}}$\n",
    "\n",
    "![title](https://upload.wikimedia.org/wikipedia/commons/8/88/Logistic-curve.svg)"
   ]
  },
  {
   "cell_type": "code",
   "execution_count": 32,
   "metadata": {
    "slideshow": {
     "slide_type": "subslide"
    }
   },
   "outputs": [],
   "source": [
    "fn sigmoid(v: f64) -> f64 {\n",
    "    if v < -40. {\n",
    "        0.\n",
    "    } else if v > 40. {\n",
    "        1.\n",
    "    } else {\n",
    "        1. / (1. + f64::exp(-v))\n",
    "    }\n",
    "}"
   ]
  },
  {
   "cell_type": "code",
   "execution_count": 12,
   "metadata": {
    "slideshow": {
     "slide_type": "skip"
    }
   },
   "outputs": [],
   "source": [
    "fn dot(w: &Vec<f64>, x: &DMatrix<f64>, m_row: usize) -> f64 {\n",
    "    let mut sum = 0f64;\n",
    "    let (_, p) = x.shape();\n",
    "    for i in 0..p {\n",
    "        sum += x[(m_row, i)] * w[i];\n",
    "    }\n",
    "\n",
    "    sum + w[p]\n",
    "}"
   ]
  },
  {
   "cell_type": "markdown",
   "metadata": {
    "slideshow": {
     "slide_type": "subslide"
    }
   },
   "source": [
    "## Logistic Regression\n",
    "\n",
    "* Estimated probability (our response is either 1 or 0): $P(X) = \\sigma({X}\\beta)$\n",
    "* Cost function: \n",
    "$$J(\\beta) = -\\frac{1}{n}\\sum_{i=1}^n[y_i log(\\sigma({X}\\beta)) + (1- y_i)log(1 - \\sigma({X}\\beta))]$$\n",
    "* Derivative: $\\frac{\\partial J(\\beta)}{\\partial \\beta} = \\frac{1}{n} X^T(\\sigma(X\\beta) - y)$"
   ]
  },
  {
   "cell_type": "code",
   "execution_count": 87,
   "metadata": {
    "slideshow": {
     "slide_type": "subslide"
    }
   },
   "outputs": [
    {
     "data": {
      "text/plain": [
       "-0.00004539889921682063"
      ]
     },
     "execution_count": 87,
     "metadata": {},
     "output_type": "execute_result"
    }
   ],
   "source": [
    "// y_true = 1.0, y_hat -> +inf\n",
    "let y = 1.0;\n",
    "let y_hat = 10.0;\n",
    "y * sigmoid(y_hat).ln() + (1.0 - y) * (1.0 - sigmoid(y_hat)).ln()"
   ]
  },
  {
   "cell_type": "code",
   "execution_count": 81,
   "metadata": {
    "slideshow": {
     "slide_type": "subslide"
    }
   },
   "outputs": [
    {
     "data": {
      "text/plain": [
       "-10.000045398899218"
      ]
     },
     "execution_count": 81,
     "metadata": {},
     "output_type": "execute_result"
    }
   ],
   "source": [
    "// y_true = 1.0, y_hat -> -inf\n",
    "let y = 1.0;\n",
    "let y_hat = -10.0;\n",
    "sigmoid(y_hat).ln() + (1.0 - y) * (1.0 - sigmoid(y_hat)).ln()"
   ]
  },
  {
   "cell_type": "code",
   "execution_count": 82,
   "metadata": {
    "slideshow": {
     "slide_type": "subslide"
    }
   },
   "outputs": [
    {
     "data": {
      "text/plain": [
       "-10.000045398900186"
      ]
     },
     "execution_count": 82,
     "metadata": {},
     "output_type": "execute_result"
    }
   ],
   "source": [
    "// y_true = 0.0, y_hat -> +inf\n",
    "let y = 0.0;\n",
    "let y_hat = 10.0;\n",
    "y * sigmoid(y_hat).ln() + (1.0 - y) * (1.0 - sigmoid(y_hat)).ln()"
   ]
  },
  {
   "cell_type": "code",
   "execution_count": 83,
   "metadata": {
    "slideshow": {
     "slide_type": "subslide"
    }
   },
   "outputs": [
    {
     "data": {
      "text/plain": [
       "-0.00004539889921682063"
      ]
     },
     "execution_count": 83,
     "metadata": {},
     "output_type": "execute_result"
    }
   ],
   "source": [
    "// y_true = 0.0, y_hat -> -inf\n",
    "let y = 0.0;\n",
    "let y_hat = -10.0;\n",
    "y * sigmoid(y_hat).ln() + (1.0 - y) * (1.0 - sigmoid(y_hat)).ln()"
   ]
  },
  {
   "cell_type": "code",
   "execution_count": 10,
   "metadata": {
    "slideshow": {
     "slide_type": "slide"
    }
   },
   "outputs": [],
   "source": [
    "use argmin::prelude::*;\n",
    "use argmin::solver::linesearch::{ArmijoCondition, BacktrackingLineSearch};\n",
    "use argmin::solver::quasinewton::LBFGS;"
   ]
  },
  {
   "cell_type": "code",
   "execution_count": 13,
   "metadata": {
    "slideshow": {
     "slide_type": "subslide"
    }
   },
   "outputs": [],
   "source": [
    "struct LossFunction<'a> {\n",
    "    x: &'a DMatrix<f64>,\n",
    "    y: &'a DVector<f64>\n",
    "}"
   ]
  },
  {
   "cell_type": "code",
   "execution_count": 14,
   "metadata": {
    "slideshow": {
     "slide_type": "subslide"
    }
   },
   "outputs": [],
   "source": [
    "impl<'a> ArgminOp for LossFunction<'a> {\n",
    "    type Param = Vec<f64>;\n",
    "    type Output = f64;\n",
    "    type Hessian = Vec<Vec<f64>>;\n",
    "    type Jacobian = ();\n",
    "    type Float = f64;\n",
    "\n",
    "    // cost function at point w\n",
    "    fn apply(&self, w: &Self::Param) -> Result<Self::Output, Error> {\n",
    "        let mut f = 0f64;\n",
    "        let (n, _) = self.x.shape();\n",
    "\n",
    "        for i in 0..n {\n",
    "            let wx = dot(w, &self.x, i);\n",
    "            f += self.y[i] * sigmoid(wx).ln() + (1.0 - self.y[i]) * (1.0 - sigmoid(wx)).ln();\n",
    "        }\n",
    "        \n",
    "        Ok(-f)\n",
    "    }\n",
    "\n",
    "    // the gradient of the cost function at the point w\n",
    "    fn gradient(&self, w: &Self::Param) -> Result<Self::Param, Error> {\n",
    "        let (n, p) = self.x.shape();\n",
    "        let mut g = vec![0f64; w.len()];\n",
    "\n",
    "        for i in 0..n {\n",
    "            let wx = dot(w, &self.x, i);\n",
    "\n",
    "            let dyi = self.y[i] - sigmoid(wx);\n",
    "            for j in 0..p {\n",
    "                g[j] -= dyi * self.x[(i, j)];\n",
    "            }\n",
    "            g[p] -= dyi;\n",
    "        }\n",
    "        Ok(g)\n",
    "    }    \n",
    "}"
   ]
  },
  {
   "cell_type": "code",
   "execution_count": 15,
   "metadata": {
    "slideshow": {
     "slide_type": "subslide"
    }
   },
   "outputs": [],
   "source": [
    "fn optimize(x: &DMatrix<f64>, y: &DVector<f64>) -> Result<(DVector<f64>, f64), Error> {      \n",
    "\n",
    "    let (_, p) = x.shape();\n",
    "\n",
    "    // Define cost function\n",
    "    let cost = LossFunction { x, y };\n",
    "\n",
    "    // Define initial parameter vector\n",
    "    let init_param: Vec<f64> = vec![0f64; p + 1];\n",
    "    \n",
    "    // Set condition\n",
    "    let cond = ArmijoCondition::new(0.5)?;\n",
    "\n",
    "    // set up a line search\n",
    "    let linesearch = BacktrackingLineSearch::new(cond).rho(0.9)?;\n",
    "\n",
    "    // Set up solver\n",
    "    let solver = LBFGS::new(linesearch, 10);\n",
    "\n",
    "    // Run solver\n",
    "    let res = Executor::new(cost, solver, init_param)\n",
    "        .max_iters(100)\n",
    "        .run()?;\n",
    "\n",
    "    let w = DVector::from_row_slice(&res.state().best_param);\n",
    "        \n",
    "    Ok((w.rows(0, p).into_owned(), w[p]))\n",
    "}"
   ]
  },
  {
   "cell_type": "code",
   "execution_count": 16,
   "metadata": {
    "slideshow": {
     "slide_type": "subslide"
    }
   },
   "outputs": [],
   "source": [
    "let (coeff, intercept) = optimize(&x_train, &y_train.transpose()).unwrap();"
   ]
  },
  {
   "cell_type": "code",
   "execution_count": 17,
   "metadata": {
    "slideshow": {
     "slide_type": "subslide"
    }
   },
   "outputs": [
    {
     "name": "stdout",
     "output_type": "stream",
     "text": [
      "coeff: \n",
      "  ┌                          ┐\n",
      "  │ -0.000029086428558675878 │\n",
      "  │    -0.031008276588418204 │\n",
      "  │     -0.04175083130759226 │\n",
      "  │      -0.5853141446539952 │\n",
      "  │       0.8112769950796751 │\n",
      "  └                          ┘\n",
      "\n",
      ", intercept: -0.45322948269666435\n"
     ]
    }
   ],
   "source": [
    "println!(\"coeff: {}, intercept: {}\", coeff.rows(0, 5), intercept);"
   ]
  },
  {
   "cell_type": "code",
   "execution_count": 18,
   "metadata": {
    "slideshow": {
     "slide_type": "slide"
    }
   },
   "outputs": [],
   "source": [
    "fn predict(x: &DMatrix<f64>, coeff: &DVector<f64>, intercept: f64) -> DVector<f64> {\n",
    "    let mut y_hat = (x * coeff).add_scalar(intercept);\n",
    "    y_hat.apply(|v| {\n",
    "        if sigmoid(v) > 0.5 {\n",
    "            1.0\n",
    "        } else {\n",
    "            0.0\n",
    "        }\n",
    "    });\n",
    "    y_hat.into_owned()\n",
    "}"
   ]
  },
  {
   "cell_type": "code",
   "execution_count": 19,
   "metadata": {
    "slideshow": {
     "slide_type": "subslide"
    }
   },
   "outputs": [],
   "source": [
    "use smartcore::metrics::roc_auc_score;"
   ]
  },
  {
   "cell_type": "code",
   "execution_count": 20,
   "metadata": {
    "slideshow": {
     "slide_type": "subslide"
    }
   },
   "outputs": [
    {
     "data": {
      "text/plain": [
       "0.9255952380952381"
      ]
     },
     "execution_count": 20,
     "metadata": {},
     "output_type": "execute_result"
    }
   ],
   "source": [
    "roc_auc_score(&y_test, &predict(&x_test, &coeff, intercept).transpose())"
   ]
  },
  {
   "cell_type": "code",
   "execution_count": 21,
   "metadata": {
    "slideshow": {
     "slide_type": "slide"
    }
   },
   "outputs": [],
   "source": [
    "use smartcore::linear::logistic_regression::LogisticRegression;"
   ]
  },
  {
   "cell_type": "code",
   "execution_count": 22,
   "metadata": {
    "slideshow": {
     "slide_type": "subslide"
    }
   },
   "outputs": [],
   "source": [
    "let lr = LogisticRegression::fit(&x_train, &y_train).unwrap();\n",
    "let y_hat = lr.predict(&x_test).unwrap();"
   ]
  },
  {
   "cell_type": "code",
   "execution_count": 23,
   "metadata": {
    "slideshow": {
     "slide_type": "subslide"
    }
   },
   "outputs": [
    {
     "data": {
      "text/plain": [
       "0.9315476190476191"
      ]
     },
     "execution_count": 23,
     "metadata": {},
     "output_type": "execute_result"
    }
   ],
   "source": [
    "roc_auc_score(&y_test, &y_hat)"
   ]
  },
  {
   "cell_type": "code",
   "execution_count": 24,
   "metadata": {
    "slideshow": {
     "slide_type": "subslide"
    }
   },
   "outputs": [
    {
     "name": "stdout",
     "output_type": "stream",
     "text": [
      "y_hat: \n",
      "  ┌                     ┐\n",
      "  │ 1 1 0 0 1 1 0 1 0 1 │\n",
      "  └                     ┘\n",
      "\n",
      ", y_true: \n",
      "  ┌                     ┐\n",
      "  │ 1 1 0 1 1 1 0 1 0 1 │\n",
      "  └                     ┘\n",
      "\n",
      "\n"
     ]
    }
   ],
   "source": [
    "println!(\"y_hat: {}, y_true: {}\", y_hat.columns(0, 10), y_test.columns(0, 10));"
   ]
  },
  {
   "cell_type": "code",
   "execution_count": 25,
   "metadata": {
    "slideshow": {
     "slide_type": "slide"
    }
   },
   "outputs": [],
   "source": [
    "use smartcore::ensemble::random_forest_classifier::RandomForestClassifier;"
   ]
  },
  {
   "cell_type": "code",
   "execution_count": 26,
   "metadata": {
    "slideshow": {
     "slide_type": "subslide"
    }
   },
   "outputs": [],
   "source": [
    "let y_hat_rf = RandomForestClassifier::fit(&x_train, &y_train, Default::default()).\n",
    "            and_then(|rf| rf.predict(&x_test)).unwrap();"
   ]
  },
  {
   "cell_type": "code",
   "execution_count": 27,
   "metadata": {
    "slideshow": {
     "slide_type": "subslide"
    }
   },
   "outputs": [
    {
     "data": {
      "text/plain": [
       "0.9375"
      ]
     },
     "execution_count": 27,
     "metadata": {},
     "output_type": "execute_result"
    }
   ],
   "source": [
    "roc_auc_score(&y_test, &y_hat_rf)"
   ]
  },
  {
   "cell_type": "code",
   "execution_count": null,
   "metadata": {
    "slideshow": {
     "slide_type": "skip"
    }
   },
   "outputs": [],
   "source": []
  }
 ],
 "metadata": {
  "celltoolbar": "Slideshow",
  "kernelspec": {
   "display_name": "Rust",
   "language": "rust",
   "name": "rust"
  },
  "language_info": {
   "codemirror_mode": "rust",
   "file_extension": ".rs",
   "mimetype": "text/rust",
   "name": "Rust",
   "pygment_lexer": "rust",
   "version": ""
  }
 },
 "nbformat": 4,
 "nbformat_minor": 2
}
