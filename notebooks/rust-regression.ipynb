{
 "cells": [
  {
   "cell_type": "code",
   "execution_count": 2,
   "metadata": {
    "slideshow": {
     "slide_type": "slide"
    }
   },
   "outputs": [],
   "source": [
    ":dep smartcore = { version = \"0.1.0\", features=[\"nalgebra-bindings\", \"ndarray-bindings\", \"datasets\"]}\n",
    ":dep csv = \"1.1.5\"\n",
    ":dep ndarray = \"0.13.1\"\n",
    ":dep ndarray-csv = \"0.4.1\"\n",
    ":dep nalgebra = \"0.22.0\""
   ]
  },
  {
   "cell_type": "code",
   "execution_count": 3,
   "metadata": {
    "slideshow": {
     "slide_type": "subslide"
    }
   },
   "outputs": [],
   "source": [
    "use nalgebra::{DMatrix, DVector, RowDVector, Scalar};"
   ]
  },
  {
   "cell_type": "code",
   "execution_count": 4,
   "metadata": {
    "slideshow": {
     "slide_type": "skip"
    }
   },
   "outputs": [],
   "source": [
    "use std::error::Error;\n",
    "use std::io::prelude::*;\n",
    "use std::io::BufReader;\n",
    "use std::fs::File;\n",
    "use std::str::FromStr;"
   ]
  },
  {
   "cell_type": "code",
   "execution_count": 5,
   "metadata": {
    "slideshow": {
     "slide_type": "skip"
    }
   },
   "outputs": [],
   "source": [
    "fn parse_csv<N, R>(input: R) -> Result<DMatrix<N>, Box<dyn Error>>\n",
    "  where N: FromStr + Scalar,\n",
    "        N::Err: Error,\n",
    "        R: BufRead\n",
    "{\n",
    "  // initialize an empty vector to fill with numbers\n",
    "  let mut data = Vec::new();\n",
    "\n",
    "  // initialize the number of rows to zero; we'll increment this\n",
    "  // every time we encounter a newline in the input\n",
    "  let mut rows = 0;\n",
    "\n",
    "  // for each line in the input,\n",
    "  for line in input.lines() {\n",
    "    // increment the number of rows\n",
    "    rows += 1;\n",
    "    // iterate over the items in the row, separated by commas\n",
    "    for datum in line?.split_terminator(\",\") {\n",
    "      // trim the whitespace from the item, parse it, and push it to\n",
    "      // the data array\n",
    "      data.push(N::from_str(datum.trim())?);\n",
    "    }\n",
    "  }\n",
    "\n",
    "  // The number of items divided by the number of rows equals the\n",
    "  // number of columns.\n",
    "  let cols = data.len() / rows;\n",
    "\n",
    "  // Construct a `DMatrix` from the data in the vector.\n",
    "  Ok(DMatrix::from_row_slice(rows, cols, &data[..]))\n",
    "}"
   ]
  },
  {
   "cell_type": "code",
   "execution_count": 6,
   "metadata": {
    "slideshow": {
     "slide_type": "slide"
    }
   },
   "outputs": [
    {
     "data": {
      "text/plain": [
       "(506, 14)"
      ]
     },
     "execution_count": 6,
     "metadata": {},
     "output_type": "execute_result"
    }
   ],
   "source": [
    "let file = File::open(\"../data/boston.csv\")?;\n",
    "let bos: DMatrix<f64> = parse_csv(BufReader::new(file))?;\n",
    "bos.shape()"
   ]
  },
  {
   "cell_type": "code",
   "execution_count": 7,
   "metadata": {
    "slideshow": {
     "slide_type": "subslide"
    }
   },
   "outputs": [
    {
     "name": "stdout",
     "output_type": "stream",
     "text": [
      "\n",
      "  ┌                                                                                                                 ┐\n",
      "  │ 0.00632      18    2.31       0   0.538   6.575    65.2    4.09       1     296    15.3   396.9    4.98      24 │\n",
      "  │ 0.02731       0    7.07       0   0.469   6.421    78.9  4.9671       2     242    17.8   396.9    9.14    21.6 │\n",
      "  │ 0.02729       0    7.07       0   0.469   7.185    61.1  4.9671       2     242    17.8  392.83    4.03    34.7 │\n",
      "  │ 0.03237       0    2.18       0   0.458   6.998    45.8  6.0622       3     222    18.7  394.63    2.94    33.4 │\n",
      "  │ 0.06905       0    2.18       0   0.458   7.147    54.2  6.0622       3     222    18.7   396.9    5.33    36.2 │\n",
      "  └                                                                                                                 ┘\n",
      "\n",
      "\n"
     ]
    }
   ],
   "source": [
    "println!(\"{}\", bos.rows(0, 5));"
   ]
  },
  {
   "cell_type": "code",
   "execution_count": 8,
   "metadata": {
    "slideshow": {
     "slide_type": "slide"
    }
   },
   "outputs": [
    {
     "data": {
      "text/plain": [
       "((506, 13), (506, 1))"
      ]
     },
     "execution_count": 8,
     "metadata": {},
     "output_type": "execute_result"
    }
   ],
   "source": [
    "let x = bos.columns(0, 13).into_owned();\n",
    "let y = bos.column(13).into_owned();\n",
    "(x.shape(), y.shape())"
   ]
  },
  {
   "cell_type": "code",
   "execution_count": 9,
   "metadata": {
    "slideshow": {
     "slide_type": "subslide"
    }
   },
   "outputs": [
    {
     "name": "stdout",
     "output_type": "stream",
     "text": [
      "\n",
      "  ┌                                                                                                         ┐\n",
      "  │ 0.00632      18    2.31       0   0.538   6.575    65.2    4.09       1     296    15.3   396.9    4.98 │\n",
      "  │ 0.02731       0    7.07       0   0.469   6.421    78.9  4.9671       2     242    17.8   396.9    9.14 │\n",
      "  │ 0.02729       0    7.07       0   0.469   7.185    61.1  4.9671       2     242    17.8  392.83    4.03 │\n",
      "  │ 0.03237       0    2.18       0   0.458   6.998    45.8  6.0622       3     222    18.7  394.63    2.94 │\n",
      "  │ 0.06905       0    2.18       0   0.458   7.147    54.2  6.0622       3     222    18.7   396.9    5.33 │\n",
      "  └                                                                                                         ┘\n",
      "\n",
      "\n",
      "\n",
      "  ┌      ┐\n",
      "  │   24 │\n",
      "  │ 21.6 │\n",
      "  │ 34.7 │\n",
      "  │ 33.4 │\n",
      "  │ 36.2 │\n",
      "  └      ┘\n",
      "\n",
      "\n"
     ]
    }
   ],
   "source": [
    "println!(\"{}\", x.rows(0, 5));\n",
    "println!(\"{}\", y.rows(0, 5));"
   ]
  },
  {
   "cell_type": "code",
   "execution_count": 10,
   "metadata": {
    "slideshow": {
     "slide_type": "subslide"
    }
   },
   "outputs": [],
   "source": [
    "use smartcore::model_selection::train_test_split;"
   ]
  },
  {
   "cell_type": "code",
   "execution_count": 11,
   "metadata": {
    "slideshow": {
     "slide_type": "subslide"
    }
   },
   "outputs": [
    {
     "data": {
      "text/plain": [
       "((400, 13), (1, 400), (106, 13), (1, 106))"
      ]
     },
     "execution_count": 11,
     "metadata": {},
     "output_type": "execute_result"
    }
   ],
   "source": [
    "let (x_train, x_test, y_train, y_test) = train_test_split(&x, &y.transpose(), 0.2);\n",
    "(x_train.shape(), y_train.shape(), x_test.shape(), y_test.shape())"
   ]
  },
  {
   "cell_type": "code",
   "execution_count": 13,
   "metadata": {
    "slideshow": {
     "slide_type": "slide"
    }
   },
   "outputs": [
    {
     "data": {
      "text/plain": [
       "((400, 14), (400, 1))"
      ]
     },
     "execution_count": 13,
     "metadata": {},
     "output_type": "execute_result"
    }
   ],
   "source": [
    "let a = x_train.clone().insert_column(13, 1.0).into_owned();\n",
    "let b = y_train.clone().transpose();\n",
    "(a.shape(), b.shape())"
   ]
  },
  {
   "cell_type": "code",
   "execution_count": 14,
   "metadata": {
    "slideshow": {
     "slide_type": "subslide"
    }
   },
   "outputs": [
    {
     "name": "stdout",
     "output_type": "stream",
     "text": [
      "\n",
      "  ┌                                                                                                                 ┐\n",
      "  │ 0.00632      18    2.31       0   0.538   6.575    65.2    4.09       1     296    15.3   396.9    4.98       1 │\n",
      "  │ 0.02731       0    7.07       0   0.469   6.421    78.9  4.9671       2     242    17.8   396.9    9.14       1 │\n",
      "  │ 0.02729       0    7.07       0   0.469   7.185    61.1  4.9671       2     242    17.8  392.83    4.03       1 │\n",
      "  │ 0.03237       0    2.18       0   0.458   6.998    45.8  6.0622       3     222    18.7  394.63    2.94       1 │\n",
      "  │ 0.02985       0    2.18       0   0.458    6.43    58.7  6.0622       3     222    18.7  394.12    5.21       1 │\n",
      "  └                                                                                                                 ┘\n",
      "\n",
      "\n"
     ]
    }
   ],
   "source": [
    "println!(\"{}\", a.rows(0, 5));"
   ]
  },
  {
   "cell_type": "code",
   "execution_count": 15,
   "metadata": {
    "slideshow": {
     "slide_type": "subslide"
    }
   },
   "outputs": [],
   "source": [
    "// A.T.dot(A)\n",
    "let a_t_a = a.transpose() * &a;\n",
    "// np.linalg.inv(A.T.dot(A))\n",
    "let a_t_a_inv = a_t_a.try_inverse().unwrap();\n",
    "// np.linalg.inv(A.T.dot(A)).dot(A.T).dot(b)\n",
    "let x_hat = a_t_a_inv * &a.transpose() * &b;\n",
    "let coeff = x_hat.rows(0, 13).into_owned();\n",
    "let intercept = x_hat[(13, 0)];"
   ]
  },
  {
   "cell_type": "code",
   "execution_count": 18,
   "metadata": {
    "slideshow": {
     "slide_type": "subslide"
    }
   },
   "outputs": [
    {
     "name": "stdout",
     "output_type": "stream",
     "text": [
      "coeff: \n",
      "  ┌                        ┐\n",
      "  │   -0.11963654326069977 │\n",
      "  │    0.03863925768072219 │\n",
      "  │    0.06701609736776759 │\n",
      "  │      2.629438790269493 │\n",
      "  │    -20.967597318475992 │\n",
      "  │      4.103904424216561 │\n",
      "  │ -0.0004976572448299054 │\n",
      "  │    -1.5323807191103553 │\n",
      "  │    0.35048193952706325 │\n",
      "  │  -0.014317291144891548 │\n",
      "  │    -0.9360162870498203 │\n",
      "  │   0.007758241070873607 │\n",
      "  │    -0.5686368353651949 │\n",
      "  └                        ┘\n",
      "\n",
      ", intercept: 37.433089824034546\n"
     ]
    }
   ],
   "source": [
    "println!(\"coeff: {}, intercept: {}\", coeff, intercept);"
   ]
  },
  {
   "cell_type": "code",
   "execution_count": 19,
   "metadata": {
    "slideshow": {
     "slide_type": "subslide"
    }
   },
   "outputs": [],
   "source": [
    "let y_hat_inv = (x_test.clone() * &coeff).add_scalar(intercept);"
   ]
  },
  {
   "cell_type": "code",
   "execution_count": 20,
   "metadata": {
    "slideshow": {
     "slide_type": "subslide"
    }
   },
   "outputs": [],
   "source": [
    "use smartcore::metrics::mean_absolute_error;"
   ]
  },
  {
   "cell_type": "code",
   "execution_count": 23,
   "metadata": {
    "slideshow": {
     "slide_type": "subslide"
    }
   },
   "outputs": [
    {
     "data": {
      "text/plain": [
       "3.1081864959381837"
      ]
     },
     "execution_count": 23,
     "metadata": {},
     "output_type": "execute_result"
    }
   ],
   "source": [
    "mean_absolute_error(&y_test, &y_hat_inv.transpose())"
   ]
  },
  {
   "cell_type": "code",
   "execution_count": 24,
   "metadata": {
    "slideshow": {
     "slide_type": "subslide"
    }
   },
   "outputs": [
    {
     "name": "stdout",
     "output_type": "stream",
     "text": [
      "y_hat: \n",
      "  ┌                                                                                                ┐\n",
      "  │  28.39971210805418 18.231029547358542 20.916178691198844 10.768226700423511 13.423367602416278 │\n",
      "  └                                                                                                ┘\n",
      "\n",
      ", y_true: \n",
      "  ┌                          ┐\n",
      "  │ 36.2 18.2   21 12.7 13.5 │\n",
      "  └                          ┘\n",
      "\n",
      "\n"
     ]
    }
   ],
   "source": [
    "println!(\"y_hat: {}, y_true: {}\", y_hat_inv.transpose().columns(0, 5), y_test.columns(0, 5));"
   ]
  },
  {
   "cell_type": "code",
   "execution_count": 25,
   "metadata": {
    "slideshow": {
     "slide_type": "slide"
    }
   },
   "outputs": [],
   "source": [
    "// Q, R = np.linalg.qr(A)\n",
    "let qr = a.clone().qr();\n",
    "let (q, r) = (qr.q().transpose().to_owned(), qr.r().to_owned());\n",
    "// np.linalg.inv(R).dot(Q.T).dot(b)\n",
    "let r_inv = r.try_inverse().unwrap().to_owned();\n",
    "let x_hat = r_inv * &q * &b;\n",
    "let coeff = x_hat.rows(0, 13).into_owned();\n",
    "let intercept = x_hat[(13, 0)];"
   ]
  },
  {
   "cell_type": "code",
   "execution_count": 26,
   "metadata": {
    "slideshow": {
     "slide_type": "subslide"
    }
   },
   "outputs": [
    {
     "name": "stdout",
     "output_type": "stream",
     "text": [
      "coeff: \n",
      "  ┌                        ┐\n",
      "  │   -0.11963654326027438 │\n",
      "  │    0.03863925768082262 │\n",
      "  │    0.06701609736726818 │\n",
      "  │     2.6294387902232588 │\n",
      "  │    -20.967597318457692 │\n",
      "  │      4.103904424216056 │\n",
      "  │ -0.0004976572448448192 │\n",
      "  │    -1.5323807191105798 │\n",
      "  │     0.3504819395269898 │\n",
      "  │  -0.014317291144885353 │\n",
      "  │    -0.9360162870500541 │\n",
      "  │   0.007758241070872939 │\n",
      "  │    -0.5686368353652307 │\n",
      "  └                        ┘\n",
      "\n",
      ", intercept: 37.433089824040124\n"
     ]
    }
   ],
   "source": [
    "println!(\"coeff: {}, intercept: {}\", coeff, intercept);"
   ]
  },
  {
   "cell_type": "code",
   "execution_count": 27,
   "metadata": {
    "slideshow": {
     "slide_type": "subslide"
    }
   },
   "outputs": [],
   "source": [
    "let y_hat_qr = (x_test.clone() * &coeff).add_scalar(intercept);"
   ]
  },
  {
   "cell_type": "code",
   "execution_count": 29,
   "metadata": {
    "slideshow": {
     "slide_type": "subslide"
    }
   },
   "outputs": [
    {
     "data": {
      "text/plain": [
       "3.108186495937896"
      ]
     },
     "execution_count": 29,
     "metadata": {},
     "output_type": "execute_result"
    }
   ],
   "source": [
    "mean_absolute_error(&y_test, &y_hat_qr.transpose())"
   ]
  },
  {
   "cell_type": "code",
   "execution_count": 28,
   "metadata": {
    "slideshow": {
     "slide_type": "subslide"
    }
   },
   "outputs": [
    {
     "name": "stdout",
     "output_type": "stream",
     "text": [
      "y_hat: \n",
      "  ┌                                                                                                ┐\n",
      "  │  28.39971210805763  18.23102954736146 20.916178691201022 10.768226700425757 13.423367602418757 │\n",
      "  └                                                                                                ┘\n",
      "\n",
      ", y_true: \n",
      "  ┌                          ┐\n",
      "  │ 36.2 18.2   21 12.7 13.5 │\n",
      "  └                          ┘\n",
      "\n",
      "\n"
     ]
    }
   ],
   "source": [
    "println!(\"y_hat: {}, y_true: {}\", y_hat_qr.transpose().columns(0, 5), y_test.columns(0, 5));"
   ]
  },
  {
   "cell_type": "code",
   "execution_count": 30,
   "metadata": {
    "slideshow": {
     "slide_type": "slide"
    }
   },
   "outputs": [],
   "source": [
    "use smartcore::linear::linear_regression::LinearRegression;"
   ]
  },
  {
   "cell_type": "code",
   "execution_count": 31,
   "metadata": {
    "slideshow": {
     "slide_type": "subslide"
    }
   },
   "outputs": [],
   "source": [
    "let lr = LinearRegression::fit(&x_train.clone(), &y_train.clone(), Default::default()).unwrap();\n",
    "let lr_coeff: DMatrix<f64> = lr.coefficients();\n",
    "let lr_intercept: f64 = lr.intercept();"
   ]
  },
  {
   "cell_type": "code",
   "execution_count": 32,
   "metadata": {
    "slideshow": {
     "slide_type": "subslide"
    }
   },
   "outputs": [
    {
     "name": "stdout",
     "output_type": "stream",
     "text": [
      "coeff: \n",
      "  ┌                        ┐\n",
      "  │   -0.11963654326027114 │\n",
      "  │   0.038639257680820216 │\n",
      "  │    0.06701609736725139 │\n",
      "  │     2.6294387902237863 │\n",
      "  │      -20.9675973184574 │\n",
      "  │      4.103904424216038 │\n",
      "  │ -0.0004976572448452832 │\n",
      "  │     -1.532380719110571 │\n",
      "  │     0.3504819395269736 │\n",
      "  │  -0.014317291144884357 │\n",
      "  │    -0.9360162870500446 │\n",
      "  │     0.0077582410708724 │\n",
      "  │    -0.5686368353652304 │\n",
      "  └                        ┘\n",
      "\n",
      ", intercept: 37.43308982404\n"
     ]
    }
   ],
   "source": [
    "println!(\"coeff: {}, intercept: {}\", lr_coeff, lr_intercept);"
   ]
  },
  {
   "cell_type": "code",
   "execution_count": 34,
   "metadata": {
    "slideshow": {
     "slide_type": "subslide"
    }
   },
   "outputs": [],
   "source": [
    "let lr_y_hat = lr.predict(&x_test).unwrap();"
   ]
  },
  {
   "cell_type": "code",
   "execution_count": 35,
   "metadata": {
    "slideshow": {
     "slide_type": "subslide"
    }
   },
   "outputs": [
    {
     "data": {
      "text/plain": [
       "3.1081864959378716"
      ]
     },
     "execution_count": 35,
     "metadata": {},
     "output_type": "execute_result"
    }
   ],
   "source": [
    "mean_absolute_error(&y_test, &lr_y_hat)"
   ]
  },
  {
   "cell_type": "code",
   "execution_count": 36,
   "metadata": {
    "slideshow": {
     "slide_type": "subslide"
    }
   },
   "outputs": [
    {
     "name": "stdout",
     "output_type": "stream",
     "text": [
      "y_hat: \n",
      "  ┌                                                                                                ┐\n",
      "  │  28.39971210805765 18.231029547361494 20.916178691201043 10.768226700425803 13.423367602418857 │\n",
      "  └                                                                                                ┘\n",
      "\n",
      ", y_true: \n",
      "  ┌                          ┐\n",
      "  │ 36.2 18.2   21 12.7 13.5 │\n",
      "  └                          ┘\n",
      "\n",
      "\n"
     ]
    }
   ],
   "source": [
    "println!(\"y_hat: {}, y_true: {}\", lr_y_hat.columns(0, 5), y_test.columns(0, 5));"
   ]
  },
  {
   "cell_type": "code",
   "execution_count": 37,
   "metadata": {
    "slideshow": {
     "slide_type": "slide"
    }
   },
   "outputs": [],
   "source": [
    "use csv::{ReaderBuilder, WriterBuilder};\n",
    "use ndarray::{Array, Array2, s};\n",
    "use ndarray_csv::{Array2Reader, Array2Writer};\n",
    "use std::error::Error;\n",
    "use std::fs::File;\n",
    "\n",
    "// Read Boston Housing Data from a CSV file\n",
    "let file = File::open(\"../data/boston.csv\")?;\n",
    "let mut reader = ReaderBuilder::new().has_headers(false).from_reader(file);\n",
    "// and turn data into a NxM matrix\n",
    "let bos: Array2<f64> = reader.deserialize_array2((506, 14))?;"
   ]
  },
  {
   "cell_type": "code",
   "execution_count": 38,
   "metadata": {
    "slideshow": {
     "slide_type": "subslide"
    }
   },
   "outputs": [
    {
     "data": {
      "text/plain": [
       "([506, 13], [506])"
      ]
     },
     "execution_count": 38,
     "metadata": {},
     "output_type": "execute_result"
    }
   ],
   "source": [
    "let x = bos.slice(s![0.., 0..13]).to_owned();\n",
    "let y = bos.column(13).to_owned();\n",
    "(x.shape(), y.shape())"
   ]
  },
  {
   "cell_type": "code",
   "execution_count": 41,
   "metadata": {
    "slideshow": {
     "slide_type": "subslide"
    }
   },
   "outputs": [
    {
     "name": "stdout",
     "output_type": "stream",
     "text": [
      "x: [[0.00632, 18, 2.31, 0, 0.538, 6.575, 65.2, 4.09, 1, 296, 15.3, 396.9, 4.98],\n",
      " [0.02731, 0, 7.07, 0, 0.469, 6.421, 78.9, 4.9671, 2, 242, 17.8, 396.9, 9.14],\n",
      " [0.02729, 0, 7.07, 0, 0.469, 7.185, 61.1, 4.9671, 2, 242, 17.8, 392.83, 4.03],\n",
      " [0.03237, 0, 2.18, 0, 0.458, 6.998, 45.8, 6.0622, 3, 222, 18.7, 394.63, 2.94],\n",
      " [0.06905, 0, 2.18, 0, 0.458, 7.147, 54.2, 6.0622, 3, 222, 18.7, 396.9, 5.33]]\n",
      "y: [24, 21.6, 34.7, 33.4, 36.2]\n"
     ]
    }
   ],
   "source": [
    "println!(\"x: {}\", x.slice(s![0..5, 0..]));\n",
    "println!(\"y: {}\", y.slice(s![0..5]));"
   ]
  },
  {
   "cell_type": "code",
   "execution_count": 43,
   "metadata": {
    "slideshow": {
     "slide_type": "subslide"
    }
   },
   "outputs": [
    {
     "data": {
      "text/plain": [
       "([388, 13], [388], [118, 13], [118])"
      ]
     },
     "execution_count": 43,
     "metadata": {},
     "output_type": "execute_result"
    }
   ],
   "source": [
    "let (x_train, x_test, y_train, y_test) = train_test_split(&x, &y, 0.2);\n",
    "(x_train.shape(), y_train.shape(), x_test.shape(), y_test.shape())"
   ]
  },
  {
   "cell_type": "code",
   "execution_count": 44,
   "metadata": {
    "slideshow": {
     "slide_type": "slide"
    }
   },
   "outputs": [],
   "source": [
    "let lr_y_hat = LinearRegression::fit(&x_train, &y_train, Default::default()).\n",
    "                    and_then(|lr| lr.predict(&x_test)).unwrap();"
   ]
  },
  {
   "cell_type": "code",
   "execution_count": 46,
   "metadata": {
    "slideshow": {
     "slide_type": "subslide"
    }
   },
   "outputs": [
    {
     "data": {
      "text/plain": [
       "3.5736947867842512"
      ]
     },
     "execution_count": 46,
     "metadata": {},
     "output_type": "execute_result"
    }
   ],
   "source": [
    "mean_absolute_error(&y_test, &lr_y_hat)"
   ]
  },
  {
   "cell_type": "code",
   "execution_count": 45,
   "metadata": {
    "slideshow": {
     "slide_type": "subslide"
    }
   },
   "outputs": [
    {
     "name": "stdout",
     "output_type": "stream",
     "text": [
      "y_hat: [29.09793996553453, 19.44323628726571, 18.846586897221364, 21.721327644055297, 16.870683706691565]\n",
      "y_true: [33.4, 27.1, 15, 18.9, 17.5]\n"
     ]
    }
   ],
   "source": [
    "println!(\"y_hat: {}\\ny_true: {}\", lr_y_hat.slice(s![0..5]), y_test.slice(s![0..5]));"
   ]
  },
  {
   "cell_type": "code",
   "execution_count": 48,
   "metadata": {
    "slideshow": {
     "slide_type": "slide"
    }
   },
   "outputs": [],
   "source": [
    "use smartcore::ensemble::random_forest_regressor::RandomForestRegressor;"
   ]
  },
  {
   "cell_type": "code",
   "execution_count": 49,
   "metadata": {
    "slideshow": {
     "slide_type": "subslide"
    }
   },
   "outputs": [],
   "source": [
    "let rf_y_hat = RandomForestRegressor::fit(&x_train, &y_train, Default::default()).\n",
    "                    and_then(|rf| rf.predict(&x_test)).unwrap();"
   ]
  },
  {
   "cell_type": "code",
   "execution_count": 51,
   "metadata": {
    "slideshow": {
     "slide_type": "subslide"
    }
   },
   "outputs": [
    {
     "data": {
      "text/plain": [
       "2.3541988162496597"
      ]
     },
     "execution_count": 51,
     "metadata": {},
     "output_type": "execute_result"
    }
   ],
   "source": [
    "mean_absolute_error(&y_test, &rf_y_hat)"
   ]
  },
  {
   "cell_type": "code",
   "execution_count": 52,
   "metadata": {
    "slideshow": {
     "slide_type": "subslide"
    }
   },
   "outputs": [
    {
     "name": "stdout",
     "output_type": "stream",
     "text": [
      "y_hat: [35.85, 20.299999999999994, 19.789999999999996, 22.14, 18.759999999999945]\n",
      "y_true: [33.4, 27.1, 15, 18.9, 17.5]\n"
     ]
    }
   ],
   "source": [
    "println!(\"y_hat: {}\\ny_true: {}\", rf_y_hat.slice(s![0..5]), y_test.slice(s![0..5]));"
   ]
  },
  {
   "cell_type": "code",
   "execution_count": null,
   "metadata": {
    "slideshow": {
     "slide_type": "skip"
    }
   },
   "outputs": [],
   "source": []
  }
 ],
 "metadata": {
  "celltoolbar": "Slideshow",
  "kernelspec": {
   "display_name": "Rust",
   "language": "rust",
   "name": "rust"
  },
  "language_info": {
   "codemirror_mode": "rust",
   "file_extension": ".rs",
   "mimetype": "text/rust",
   "name": "Rust",
   "pygment_lexer": "rust",
   "version": ""
  }
 },
 "nbformat": 4,
 "nbformat_minor": 2
}
