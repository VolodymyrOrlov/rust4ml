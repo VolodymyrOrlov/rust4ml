{
 "cells": [
  {
   "cell_type": "code",
   "execution_count": 2,
   "metadata": {
    "slideshow": {
     "slide_type": "slide"
    }
   },
   "outputs": [],
   "source": [
    ":dep smartcore = { version = \"0.2.0\", features=[\"nalgebra-bindings\", \"datasets\"]}\n",
    ":dep nalgebra = \"0.23.0\""
   ]
  },
  {
   "cell_type": "code",
   "execution_count": 3,
   "metadata": {
    "slideshow": {
     "slide_type": "subslide"
    }
   },
   "outputs": [],
   "source": [
    "use nalgebra::{DMatrix, DVector, Scalar};"
   ]
  },
  {
   "cell_type": "code",
   "execution_count": 4,
   "metadata": {
    "slideshow": {
     "slide_type": "skip"
    }
   },
   "outputs": [],
   "source": [
    "use std::error::Error;\n",
    "use std::io::prelude::*;\n",
    "use std::io::BufReader;\n",
    "use std::fs::File;\n",
    "use std::str::FromStr;"
   ]
  },
  {
   "cell_type": "code",
   "execution_count": 5,
   "metadata": {
    "slideshow": {
     "slide_type": "skip"
    }
   },
   "outputs": [],
   "source": [
    "fn parse_csv<N, R>(input: R) -> Result<DMatrix<N>, Box<dyn Error>>\n",
    "  where N: FromStr + Scalar,\n",
    "        N::Err: Error,\n",
    "        R: BufRead\n",
    "{\n",
    "  // initialize an empty vector to fill with numbers\n",
    "  let mut data = Vec::new();\n",
    "\n",
    "  // initialize the number of rows to zero; we'll increment this\n",
    "  // every time we encounter a newline in the input\n",
    "  let mut rows = 0;\n",
    "\n",
    "  // for each line in the input,\n",
    "  for line in input.lines() {\n",
    "    // increment the number of rows\n",
    "    rows += 1;\n",
    "    // iterate over the items in the row, separated by commas\n",
    "    for datum in line?.split_terminator(\",\") {\n",
    "      // trim the whitespace from the item, parse it, and push it to\n",
    "      // the data array\n",
    "      data.push(N::from_str(datum.trim())?);\n",
    "    }\n",
    "  }\n",
    "\n",
    "  // The number of items divided by the number of rows equals the\n",
    "  // number of columns.\n",
    "  let cols = data.len() / rows;\n",
    "\n",
    "  // Construct a `DMatrix` from the data in the vector.\n",
    "  Ok(DMatrix::from_row_slice(rows, cols, &data[..]))\n",
    "}"
   ]
  },
  {
   "cell_type": "code",
   "execution_count": 6,
   "metadata": {
    "slideshow": {
     "slide_type": "slide"
    }
   },
   "outputs": [
    {
     "data": {
      "text/plain": [
       "(506, 14)"
      ]
     },
     "execution_count": 6,
     "metadata": {},
     "output_type": "execute_result"
    }
   ],
   "source": [
    "let file = File::open(\"../data/boston.csv\")?;\n",
    "let bos: DMatrix<f64> = parse_csv(BufReader::new(file))?;\n",
    "bos.shape()"
   ]
  },
  {
   "cell_type": "code",
   "execution_count": 45,
   "metadata": {
    "slideshow": {
     "slide_type": "subslide"
    }
   },
   "outputs": [
    {
     "name": "stdout",
     "output_type": "stream",
     "text": [
      "\n",
      "  ┌                                                                                                                 ┐\n",
      "  │ 0.00632      18    2.31       0   0.538   6.575    65.2    4.09       1     296    15.3   396.9    4.98      24 │\n",
      "  │ 0.02731       0    7.07       0   0.469   6.421    78.9  4.9671       2     242    17.8   396.9    9.14    21.6 │\n",
      "  │ 0.02729       0    7.07       0   0.469   7.185    61.1  4.9671       2     242    17.8  392.83    4.03    34.7 │\n",
      "  │ 0.03237       0    2.18       0   0.458   6.998    45.8  6.0622       3     222    18.7  394.63    2.94    33.4 │\n",
      "  │ 0.06905       0    2.18       0   0.458   7.147    54.2  6.0622       3     222    18.7   396.9    5.33    36.2 │\n",
      "  └                                                                                                                 ┘\n",
      "\n",
      "\n"
     ]
    }
   ],
   "source": [
    "println!(\"{}\", bos.rows(0, 5));"
   ]
  },
  {
   "cell_type": "code",
   "execution_count": 46,
   "metadata": {
    "slideshow": {
     "slide_type": "subslide"
    }
   },
   "outputs": [
    {
     "data": {
      "text/plain": [
       "((506, 13), (506, 1))"
      ]
     },
     "execution_count": 46,
     "metadata": {},
     "output_type": "execute_result"
    }
   ],
   "source": [
    "let x = bos.columns(0, 13).into_owned();\n",
    "let y = bos.column(13).into_owned();\n",
    "(x.shape(), y.shape())"
   ]
  },
  {
   "cell_type": "code",
   "execution_count": 47,
   "metadata": {
    "slideshow": {
     "slide_type": "subslide"
    }
   },
   "outputs": [
    {
     "name": "stdout",
     "output_type": "stream",
     "text": [
      "\n",
      "  ┌                                                                                                         ┐\n",
      "  │ 0.00632      18    2.31       0   0.538   6.575    65.2    4.09       1     296    15.3   396.9    4.98 │\n",
      "  │ 0.02731       0    7.07       0   0.469   6.421    78.9  4.9671       2     242    17.8   396.9    9.14 │\n",
      "  │ 0.02729       0    7.07       0   0.469   7.185    61.1  4.9671       2     242    17.8  392.83    4.03 │\n",
      "  │ 0.03237       0    2.18       0   0.458   6.998    45.8  6.0622       3     222    18.7  394.63    2.94 │\n",
      "  │ 0.06905       0    2.18       0   0.458   7.147    54.2  6.0622       3     222    18.7   396.9    5.33 │\n",
      "  └                                                                                                         ┘\n",
      "\n",
      "\n",
      "\n",
      "  ┌      ┐\n",
      "  │   24 │\n",
      "  │ 21.6 │\n",
      "  │ 34.7 │\n",
      "  │ 33.4 │\n",
      "  │ 36.2 │\n",
      "  └      ┘\n",
      "\n",
      "\n"
     ]
    }
   ],
   "source": [
    "println!(\"{}\", x.rows(0, 5));\n",
    "println!(\"{}\", y.rows(0, 5));"
   ]
  },
  {
   "cell_type": "code",
   "execution_count": 48,
   "metadata": {
    "slideshow": {
     "slide_type": "subslide"
    }
   },
   "outputs": [],
   "source": [
    "use smartcore::model_selection::train_test_split;"
   ]
  },
  {
   "cell_type": "code",
   "execution_count": 11,
   "metadata": {
    "slideshow": {
     "slide_type": "subslide"
    }
   },
   "outputs": [
    {
     "data": {
      "text/plain": [
       "((405, 13), (1, 405), (101, 13), (1, 101))"
      ]
     },
     "execution_count": 11,
     "metadata": {},
     "output_type": "execute_result"
    }
   ],
   "source": [
    "let (x_train, x_test, y_train, y_test) = train_test_split(&x, &y.transpose(), 0.2, true);\n",
    "(x_train.shape(), y_train.shape(), x_test.shape(), y_test.shape())"
   ]
  },
  {
   "cell_type": "code",
   "execution_count": 12,
   "metadata": {
    "slideshow": {
     "slide_type": "slide"
    }
   },
   "outputs": [
    {
     "data": {
      "text/plain": [
       "((405, 14), (405, 1))"
      ]
     },
     "execution_count": 12,
     "metadata": {},
     "output_type": "execute_result"
    }
   ],
   "source": [
    "let a = x_train.clone().insert_column(13, 1.0).into_owned();\n",
    "let b = y_train.clone().transpose();\n",
    "(a.shape(), b.shape())"
   ]
  },
  {
   "cell_type": "code",
   "execution_count": 13,
   "metadata": {
    "slideshow": {
     "slide_type": "subslide"
    }
   },
   "outputs": [
    {
     "name": "stdout",
     "output_type": "stream",
     "text": [
      "\n",
      "  ┌                                                                                                                 ┐\n",
      "  │ 8.15174       0    18.1       0     0.7    5.39    98.9  1.7281      24     666    20.2   396.9   20.85       1 │\n",
      "  │ 2.36862       0   19.58       0   0.871   4.926    95.7  1.4608       5     403    14.7  391.71   29.53       1 │\n",
      "  │  0.0351      95    2.68       0  0.4161   7.853    33.2   5.118       4     224    14.7  392.78    3.81       1 │\n",
      "  │ 2.73397       0   19.58       0   0.871   5.597    94.9  1.5257       5     403    14.7  351.85   21.45       1 │\n",
      "  │ 41.5292       0    18.1       0   0.693   5.531    85.4  1.6074      24     666    20.2  329.46   27.38       1 │\n",
      "  └                                                                                                                 ┘\n"
     ]
    }
   ],
   "source": [
    "println!(\"{}\", a.rows(0, 5));"
   ]
  },
  {
   "cell_type": "code",
   "execution_count": 14,
   "metadata": {
    "slideshow": {
     "slide_type": "subslide"
    }
   },
   "outputs": [
    {
     "name": "stdout",
     "output_type": "stream",
     "text": [
      "\n",
      "\n"
     ]
    }
   ],
   "source": [
    "// A.T.dot(A)\n",
    "let a_t_a = a.transpose() * &a;\n",
    "// np.linalg.inv(A.T.dot(A))\n",
    "let a_t_a_inv = a_t_a.try_inverse().unwrap();\n",
    "// np.linalg.inv(A.T.dot(A)).dot(A.T).dot(b)\n",
    "let x_hat = a_t_a_inv * &a.transpose() * &b;\n",
    "let coeff = x_hat.rows(0, 13).into_owned();\n",
    "let intercept = x_hat[(13, 0)];"
   ]
  },
  {
   "cell_type": "code",
   "execution_count": 51,
   "metadata": {
    "slideshow": {
     "slide_type": "subslide"
    }
   },
   "outputs": [
    {
     "name": "stdout",
     "output_type": "stream",
     "text": [
      "coeff: \n",
      "  ┌                       ┐\n",
      "  │  -0.06162990533095337 │\n",
      "  │   0.04300822718705109 │\n",
      "  │   0.06536511761697435 │\n",
      "  │    3.1530150444836917 │\n",
      "  │     -19.5870126994823 │\n",
      "  │    3.6945169534169398 │\n",
      "  │  0.006685009127805426 │\n",
      "  │   -1.3921812097201318 │\n",
      "  │    0.3110429415073153 │\n",
      "  │ -0.012486793494871928 │\n",
      "  │    -0.974980194868809 │\n",
      "  │  0.010996331673317889 │\n",
      "  │   -0.5546406878182586 │\n",
      "  └                       ┘\n",
      "\n",
      ", intercept: 37.10300123020261\n"
     ]
    }
   ],
   "source": [
    "println!(\"coeff: {}, intercept: {}\", coeff, intercept);"
   ]
  },
  {
   "cell_type": "code",
   "execution_count": 52,
   "metadata": {
    "slideshow": {
     "slide_type": "subslide"
    }
   },
   "outputs": [],
   "source": [
    "let y_hat_inv = (x_test.clone() * &coeff).add_scalar(intercept);"
   ]
  },
  {
   "cell_type": "code",
   "execution_count": 17,
   "metadata": {
    "slideshow": {
     "slide_type": "subslide"
    }
   },
   "outputs": [],
   "source": [
    "use smartcore::metrics::mean_absolute_error;"
   ]
  },
  {
   "cell_type": "code",
   "execution_count": 18,
   "metadata": {
    "slideshow": {
     "slide_type": "subslide"
    }
   },
   "outputs": [
    {
     "data": {
      "text/plain": [
       "2.905824437461634"
      ]
     },
     "execution_count": 18,
     "metadata": {},
     "output_type": "execute_result"
    }
   ],
   "source": [
    "mean_absolute_error(&y_test, &y_hat_inv.transpose())"
   ]
  },
  {
   "cell_type": "code",
   "execution_count": 37,
   "metadata": {
    "slideshow": {
     "slide_type": "skip"
    }
   },
   "outputs": [
    {
     "name": "stdout",
     "output_type": "stream",
     "text": [
      "y_hat: \n",
      "  ┌                                                                                                ┐\n",
      "  │  24.81581090423301 35.201621438642846  28.46519721699519 29.814288769031446 20.214666530438254 │\n",
      "  └                                                                                                ┘\n",
      "\n",
      ", y_true: \n",
      "  ┌                          ┐\n",
      "  │ 24.7 33.1 23.3 30.1 24.5 │\n",
      "  └                          ┘\n",
      "\n",
      "\n"
     ]
    }
   ],
   "source": [
    "println!(\"y_hat: {}, y_true: {}\", y_hat_inv.transpose().columns(0, 5), y_test.columns(0, 5));"
   ]
  },
  {
   "cell_type": "code",
   "execution_count": 38,
   "metadata": {
    "slideshow": {
     "slide_type": "slide"
    }
   },
   "outputs": [],
   "source": [
    "// Q, R = np.linalg.qr(A)\n",
    "let qr = a.clone().qr();\n",
    "let (q, r) = (qr.q().transpose().to_owned(), qr.r().to_owned());\n",
    "// np.linalg.inv(R).dot(Q.T).dot(b)\n",
    "let r_inv = r.try_inverse().unwrap().to_owned();\n",
    "let x_hat = r_inv * &q * &b;\n",
    "let coeff = x_hat.rows(0, 13).into_owned();\n",
    "let intercept = x_hat[(13, 0)];"
   ]
  },
  {
   "cell_type": "code",
   "execution_count": 39,
   "metadata": {
    "slideshow": {
     "slide_type": "subslide"
    }
   },
   "outputs": [
    {
     "name": "stdout",
     "output_type": "stream",
     "text": [
      "coeff: \n",
      "  ┌                       ┐\n",
      "  │  -0.06162990533095337 │\n",
      "  │   0.04300822718705109 │\n",
      "  │   0.06536511761697435 │\n",
      "  │    3.1530150444836917 │\n",
      "  │     -19.5870126994823 │\n",
      "  │    3.6945169534169398 │\n",
      "  │  0.006685009127805426 │\n",
      "  │   -1.3921812097201318 │\n",
      "  │    0.3110429415073153 │\n",
      "  │ -0.012486793494871928 │\n",
      "  │    -0.974980194868809 │\n",
      "  │  0.010996331673317889 │\n",
      "  │   -0.5546406878182586 │\n",
      "  └                       ┘\n",
      "\n",
      ", intercept: 37.10300123020261\n"
     ]
    }
   ],
   "source": [
    "println!(\"coeff: {}, intercept: {}\", coeff, intercept);"
   ]
  },
  {
   "cell_type": "code",
   "execution_count": 40,
   "metadata": {
    "slideshow": {
     "slide_type": "subslide"
    }
   },
   "outputs": [],
   "source": [
    "let y_hat_qr = (x_test.clone() * &coeff).add_scalar(intercept);"
   ]
  },
  {
   "cell_type": "code",
   "execution_count": 23,
   "metadata": {
    "slideshow": {
     "slide_type": "subslide"
    }
   },
   "outputs": [
    {
     "data": {
      "text/plain": [
       "2.905824437460306"
      ]
     },
     "execution_count": 23,
     "metadata": {},
     "output_type": "execute_result"
    }
   ],
   "source": [
    "mean_absolute_error(&y_test, &y_hat_qr.transpose())"
   ]
  },
  {
   "cell_type": "code",
   "execution_count": 41,
   "metadata": {
    "slideshow": {
     "slide_type": "slide"
    }
   },
   "outputs": [],
   "source": [
    "use smartcore::linear::linear_regression::LinearRegression;"
   ]
  },
  {
   "cell_type": "code",
   "execution_count": 35,
   "metadata": {
    "slideshow": {
     "slide_type": "subslide"
    }
   },
   "outputs": [],
   "source": [
    "let lr = LinearRegression::fit(&x_train.clone(), &y_train.clone(), Default::default()).unwrap();\n",
    "let lr_y_hat = lr.predict(&x_test).unwrap();"
   ]
  },
  {
   "cell_type": "code",
   "execution_count": 36,
   "metadata": {
    "slideshow": {
     "slide_type": "subslide"
    }
   },
   "outputs": [
    {
     "data": {
      "text/plain": [
       "2.9058244374601854"
      ]
     },
     "execution_count": 36,
     "metadata": {},
     "output_type": "execute_result"
    }
   ],
   "source": [
    "mean_absolute_error(&y_test, &lr_y_hat)"
   ]
  },
  {
   "cell_type": "code",
   "execution_count": 42,
   "metadata": {
    "slideshow": {
     "slide_type": "slide"
    }
   },
   "outputs": [],
   "source": [
    "use smartcore::ensemble::random_forest_regressor::RandomForestRegressor;"
   ]
  },
  {
   "cell_type": "code",
   "execution_count": 43,
   "metadata": {
    "slideshow": {
     "slide_type": "subslide"
    }
   },
   "outputs": [],
   "source": [
    "let rf_y_hat = RandomForestRegressor::fit(&x_train, &y_train, Default::default()).\n",
    "                    and_then(|rf| rf.predict(&x_test)).unwrap();"
   ]
  },
  {
   "cell_type": "code",
   "execution_count": 44,
   "metadata": {
    "slideshow": {
     "slide_type": "subslide"
    }
   },
   "outputs": [
    {
     "data": {
      "text/plain": [
       "2.1732080472022446"
      ]
     },
     "execution_count": 44,
     "metadata": {},
     "output_type": "execute_result"
    }
   ],
   "source": [
    "mean_absolute_error(&y_test, &rf_y_hat)"
   ]
  },
  {
   "cell_type": "code",
   "execution_count": null,
   "metadata": {
    "slideshow": {
     "slide_type": "skip"
    }
   },
   "outputs": [],
   "source": []
  }
 ],
 "metadata": {
  "celltoolbar": "Slideshow",
  "kernelspec": {
   "display_name": "Rust",
   "language": "rust",
   "name": "rust"
  },
  "language_info": {
   "codemirror_mode": "rust",
   "file_extension": ".rs",
   "mimetype": "text/rust",
   "name": "Rust",
   "pygment_lexer": "rust",
   "version": ""
  }
 },
 "nbformat": 4,
 "nbformat_minor": 2
}
